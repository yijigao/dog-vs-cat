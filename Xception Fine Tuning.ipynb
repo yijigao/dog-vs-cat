{
 "cells": [
  {
   "cell_type": "code",
   "execution_count": 1,
   "metadata": {},
   "outputs": [
    {
     "name": "stderr",
     "output_type": "stream",
     "text": [
      "C:\\Users\\yijig\\Anaconda3\\lib\\site-packages\\h5py\\__init__.py:36: FutureWarning: Conversion of the second argument of issubdtype from `float` to `np.floating` is deprecated. In future, it will be treated as `np.float64 == np.dtype(float).type`.\n",
      "  from ._conv import register_converters as _register_converters\n",
      "Using TensorFlow backend.\n"
     ]
    }
   ],
   "source": [
    "%matplotlib inline\n",
    "#import utilities\n",
    "import os\n",
    "import shutil\n",
    "import numpy as np\n",
    "import random\n",
    "from tqdm import tqdm  \n",
    "from time import time\n",
    "from PIL import Image\n",
    "import h5py\n",
    "import pandas as pd\n",
    "\n",
    "from keras.models import *\n",
    "from keras.layers import *\n",
    "from keras.applications import *\n",
    "from keras.preprocessing.image import *\n",
    "from keras.callbacks import *\n",
    "from keras.optimizers import *\n",
    "from keras.utils import *\n",
    "from keras import backend as K"
   ]
  },
  {
   "cell_type": "markdown",
   "metadata": {},
   "source": [
    "##  基准模型"
   ]
  },
  {
   "cell_type": "code",
   "execution_count": 3,
   "metadata": {},
   "outputs": [],
   "source": [
    "from sklearn.utils import shuffle\n",
    "np.random.seed(42)\n",
    "\n",
    "X_train = []\n",
    "X_test = []\n",
    "\n",
    "\n",
    "with h5py.File('../feature_xception.h5', 'r') as h:\n",
    "    X_train.append(np.array(h['train']))\n",
    "    X_test.append(np.array(h['test']))\n",
    "    Y_train = np.array(h['label'])\n",
    "\n",
    "X_train = np.concatenate(X_train, axis=1)\n",
    "X_test = np.concatenate(X_test, axis=1)\n",
    "\n",
    "X_train, Y_train = shuffle(X_train, Y_train)"
   ]
  },
  {
   "cell_type": "code",
   "execution_count": 4,
   "metadata": {},
   "outputs": [],
   "source": [
    "input_tensor = Input(X_train.shape[1:])\n",
    "x = Dropout(0.5)(input_tensor)\n",
    "x = Dense(1, activation='sigmoid')(x)\n",
    "model = Model(input_tensor, x)\n",
    "\n",
    "model.compile(optimizer='adadelta',\n",
    "              loss='binary_crossentropy',\n",
    "              metrics=['accuracy'])"
   ]
  },
  {
   "cell_type": "code",
   "execution_count": 5,
   "metadata": {},
   "outputs": [
    {
     "name": "stdout",
     "output_type": "stream",
     "text": [
      "Train on 20000 samples, validate on 5000 samples\n",
      "Epoch 1/20\n",
      "20000/20000 [==============================] - ETA: 33s - loss: 0.7086 - acc: 0.52 - ETA: 3s - loss: 0.5442 - acc: 0.7656 - ETA: 2s - loss: 0.4283 - acc: 0.870 - ETA: 1s - loss: 0.3666 - acc: 0.906 - ETA: 1s - loss: 0.3215 - acc: 0.925 - ETA: 1s - loss: 0.2853 - acc: 0.938 - ETA: 0s - loss: 0.2585 - acc: 0.946 - ETA: 0s - loss: 0.2384 - acc: 0.952 - ETA: 0s - loss: 0.2203 - acc: 0.956 - ETA: 0s - loss: 0.2072 - acc: 0.960 - ETA: 0s - loss: 0.1964 - acc: 0.962 - ETA: 0s - loss: 0.1870 - acc: 0.964 - ETA: 0s - loss: 0.1773 - acc: 0.966 - ETA: 0s - loss: 0.1702 - acc: 0.968 - ETA: 0s - loss: 0.1642 - acc: 0.969 - ETA: 0s - loss: 0.1581 - acc: 0.970 - ETA: 0s - loss: 0.1530 - acc: 0.971 - ETA: 0s - loss: 0.1485 - acc: 0.972 - 1s 61us/step - loss: 0.1449 - acc: 0.9729 - val_loss: 0.0450 - val_acc: 0.9936\n",
      "\n",
      "Epoch 00001: val_loss improved from inf to 0.04497, saving model to Xception_fine_tune_0.h5\n",
      "Epoch 2/20\n",
      "20000/20000 [==============================] - ETA: 0s - loss: 0.0506 - acc: 0.992 - ETA: 0s - loss: 0.0549 - acc: 0.983 - ETA: 0s - loss: 0.0477 - acc: 0.988 - ETA: 0s - loss: 0.0502 - acc: 0.988 - ETA: 0s - loss: 0.0475 - acc: 0.989 - ETA: 0s - loss: 0.0500 - acc: 0.988 - ETA: 0s - loss: 0.0497 - acc: 0.988 - ETA: 0s - loss: 0.0473 - acc: 0.990 - ETA: 0s - loss: 0.0457 - acc: 0.990 - ETA: 0s - loss: 0.0443 - acc: 0.990 - ETA: 0s - loss: 0.0433 - acc: 0.991 - ETA: 0s - loss: 0.0428 - acc: 0.991 - ETA: 0s - loss: 0.0423 - acc: 0.990 - ETA: 0s - loss: 0.0422 - acc: 0.990 - ETA: 0s - loss: 0.0416 - acc: 0.990 - ETA: 0s - loss: 0.0412 - acc: 0.990 - ETA: 0s - loss: 0.0405 - acc: 0.991 - ETA: 0s - loss: 0.0399 - acc: 0.991 - ETA: 0s - loss: 0.0397 - acc: 0.991 - 1s 51us/step - loss: 0.0395 - acc: 0.9913 - val_loss: 0.0255 - val_acc: 0.9940\n",
      "\n",
      "Epoch 00002: val_loss improved from 0.04497 to 0.02554, saving model to Xception_fine_tune_0.h5\n",
      "Epoch 3/20\n",
      "20000/20000 [==============================] - ETA: 1s - loss: 0.0324 - acc: 0.984 - ETA: 0s - loss: 0.0242 - acc: 0.993 - ETA: 0s - loss: 0.0328 - acc: 0.990 - ETA: 0s - loss: 0.0313 - acc: 0.992 - ETA: 0s - loss: 0.0340 - acc: 0.991 - ETA: 0s - loss: 0.0335 - acc: 0.991 - ETA: 0s - loss: 0.0332 - acc: 0.991 - ETA: 0s - loss: 0.0322 - acc: 0.991 - ETA: 0s - loss: 0.0312 - acc: 0.991 - ETA: 0s - loss: 0.0311 - acc: 0.991 - ETA: 0s - loss: 0.0300 - acc: 0.992 - ETA: 0s - loss: 0.0299 - acc: 0.991 - ETA: 0s - loss: 0.0301 - acc: 0.991 - ETA: 0s - loss: 0.0298 - acc: 0.991 - ETA: 0s - loss: 0.0295 - acc: 0.991 - ETA: 0s - loss: 0.0294 - acc: 0.992 - ETA: 0s - loss: 0.0287 - acc: 0.992 - ETA: 0s - loss: 0.0282 - acc: 0.992 - 1s 49us/step - loss: 0.0279 - acc: 0.9925 - val_loss: 0.0212 - val_acc: 0.9938\n",
      "\n",
      "Epoch 00003: val_loss improved from 0.02554 to 0.02124, saving model to Xception_fine_tune_0.h5\n",
      "Epoch 4/20\n",
      "20000/20000 [==============================] - ETA: 0s - loss: 0.0081 - acc: 1.000 - ETA: 0s - loss: 0.0384 - acc: 0.987 - ETA: 0s - loss: 0.0281 - acc: 0.991 - ETA: 0s - loss: 0.0283 - acc: 0.991 - ETA: 0s - loss: 0.0290 - acc: 0.991 - ETA: 0s - loss: 0.0285 - acc: 0.990 - ETA: 0s - loss: 0.0294 - acc: 0.990 - ETA: 0s - loss: 0.0278 - acc: 0.991 - ETA: 0s - loss: 0.0274 - acc: 0.991 - ETA: 0s - loss: 0.0270 - acc: 0.991 - ETA: 0s - loss: 0.0262 - acc: 0.991 - ETA: 0s - loss: 0.0259 - acc: 0.991 - ETA: 0s - loss: 0.0261 - acc: 0.992 - ETA: 0s - loss: 0.0254 - acc: 0.992 - ETA: 0s - loss: 0.0251 - acc: 0.992 - ETA: 0s - loss: 0.0253 - acc: 0.992 - ETA: 0s - loss: 0.0254 - acc: 0.992 - ETA: 0s - loss: 0.0251 - acc: 0.992 - ETA: 0s - loss: 0.0246 - acc: 0.992 - ETA: 0s - loss: 0.0247 - acc: 0.992 - 1s 53us/step - loss: 0.0246 - acc: 0.9927 - val_loss: 0.0198 - val_acc: 0.9940\n",
      "\n",
      "Epoch 00004: val_loss improved from 0.02124 to 0.01979, saving model to Xception_fine_tune_0.h5\n",
      "Epoch 5/20\n",
      "20000/20000 [==============================] - ETA: 1s - loss: 0.0291 - acc: 0.976 - ETA: 0s - loss: 0.0263 - acc: 0.992 - ETA: 0s - loss: 0.0250 - acc: 0.992 - ETA: 0s - loss: 0.0248 - acc: 0.992 - ETA: 0s - loss: 0.0255 - acc: 0.992 - ETA: 0s - loss: 0.0243 - acc: 0.992 - ETA: 0s - loss: 0.0233 - acc: 0.993 - ETA: 0s - loss: 0.0245 - acc: 0.992 - ETA: 0s - loss: 0.0247 - acc: 0.992 - ETA: 0s - loss: 0.0244 - acc: 0.992 - ETA: 0s - loss: 0.0230 - acc: 0.993 - ETA: 0s - loss: 0.0229 - acc: 0.993 - ETA: 0s - loss: 0.0231 - acc: 0.993 - ETA: 0s - loss: 0.0234 - acc: 0.992 - ETA: 0s - loss: 0.0233 - acc: 0.992 - ETA: 0s - loss: 0.0236 - acc: 0.992 - ETA: 0s - loss: 0.0234 - acc: 0.992 - ETA: 0s - loss: 0.0231 - acc: 0.992 - ETA: 0s - loss: 0.0230 - acc: 0.992 - 1s 52us/step - loss: 0.0225 - acc: 0.9929 - val_loss: 0.0192 - val_acc: 0.9940\n",
      "\n",
      "Epoch 00005: val_loss improved from 0.01979 to 0.01922, saving model to Xception_fine_tune_0.h5\n",
      "Epoch 6/20\n",
      "20000/20000 [==============================] - ETA: 0s - loss: 0.0295 - acc: 0.984 - ETA: 0s - loss: 0.0202 - acc: 0.994 - ETA: 0s - loss: 0.0247 - acc: 0.993 - ETA: 0s - loss: 0.0230 - acc: 0.993 - ETA: 0s - loss: 0.0215 - acc: 0.994 - ETA: 0s - loss: 0.0222 - acc: 0.994 - ETA: 0s - loss: 0.0225 - acc: 0.994 - ETA: 0s - loss: 0.0236 - acc: 0.994 - ETA: 0s - loss: 0.0234 - acc: 0.994 - ETA: 0s - loss: 0.0237 - acc: 0.994 - ETA: 0s - loss: 0.0231 - acc: 0.994 - ETA: 0s - loss: 0.0230 - acc: 0.994 - ETA: 0s - loss: 0.0229 - acc: 0.994 - ETA: 0s - loss: 0.0227 - acc: 0.993 - ETA: 0s - loss: 0.0222 - acc: 0.994 - ETA: 0s - loss: 0.0214 - acc: 0.994 - ETA: 0s - loss: 0.0215 - acc: 0.994 - ETA: 0s - loss: 0.0212 - acc: 0.994 - ETA: 0s - loss: 0.0212 - acc: 0.994 - ETA: 0s - loss: 0.0211 - acc: 0.994 - 1s 55us/step - loss: 0.0213 - acc: 0.9940 - val_loss: 0.0189 - val_acc: 0.9944\n",
      "\n",
      "Epoch 00006: val_loss improved from 0.01922 to 0.01886, saving model to Xception_fine_tune_0.h5\n",
      "Epoch 7/20\n",
      "20000/20000 [==============================] - ETA: 1s - loss: 0.0115 - acc: 1.000 - ETA: 0s - loss: 0.0169 - acc: 0.995 - ETA: 0s - loss: 0.0166 - acc: 0.996 - ETA: 0s - loss: 0.0179 - acc: 0.995 - ETA: 0s - loss: 0.0204 - acc: 0.994 - ETA: 0s - loss: 0.0193 - acc: 0.994 - ETA: 0s - loss: 0.0201 - acc: 0.994 - ETA: 0s - loss: 0.0204 - acc: 0.994 - ETA: 0s - loss: 0.0211 - acc: 0.993 - ETA: 0s - loss: 0.0199 - acc: 0.994 - ETA: 0s - loss: 0.0203 - acc: 0.994 - ETA: 0s - loss: 0.0201 - acc: 0.994 - ETA: 0s - loss: 0.0196 - acc: 0.994 - ETA: 0s - loss: 0.0193 - acc: 0.994 - ETA: 0s - loss: 0.0186 - acc: 0.994 - ETA: 0s - loss: 0.0192 - acc: 0.994 - ETA: 0s - loss: 0.0189 - acc: 0.994 - ETA: 0s - loss: 0.0186 - acc: 0.994 - ETA: 0s - loss: 0.0190 - acc: 0.994 - ETA: 0s - loss: 0.0192 - acc: 0.994 - 1s 54us/step - loss: 0.0191 - acc: 0.9946 - val_loss: 0.0188 - val_acc: 0.9944\n",
      "\n",
      "Epoch 00007: val_loss improved from 0.01886 to 0.01884, saving model to Xception_fine_tune_0.h5\n",
      "Epoch 8/20\n",
      "20000/20000 [==============================] - ETA: 1s - loss: 0.0089 - acc: 1.000 - ETA: 0s - loss: 0.0246 - acc: 0.992 - ETA: 0s - loss: 0.0220 - acc: 0.992 - ETA: 0s - loss: 0.0244 - acc: 0.992 - ETA: 0s - loss: 0.0223 - acc: 0.993 - ETA: 0s - loss: 0.0203 - acc: 0.993 - ETA: 0s - loss: 0.0198 - acc: 0.993 - ETA: 0s - loss: 0.0208 - acc: 0.993 - ETA: 0s - loss: 0.0200 - acc: 0.993 - ETA: 0s - loss: 0.0209 - acc: 0.993 - ETA: 0s - loss: 0.0204 - acc: 0.993 - ETA: 0s - loss: 0.0208 - acc: 0.993 - ETA: 0s - loss: 0.0199 - acc: 0.994 - ETA: 0s - loss: 0.0201 - acc: 0.993 - ETA: 0s - loss: 0.0201 - acc: 0.993 - ETA: 0s - loss: 0.0196 - acc: 0.993 - ETA: 0s - loss: 0.0194 - acc: 0.994 - ETA: 0s - loss: 0.0191 - acc: 0.994 - ETA: 0s - loss: 0.0189 - acc: 0.994 - ETA: 0s - loss: 0.0189 - acc: 0.994 - 1s 54us/step - loss: 0.0189 - acc: 0.9941 - val_loss: 0.0188 - val_acc: 0.9942\n",
      "\n",
      "Epoch 00008: val_loss improved from 0.01884 to 0.01880, saving model to Xception_fine_tune_0.h5\n",
      "Epoch 9/20\n"
     ]
    },
    {
     "name": "stdout",
     "output_type": "stream",
     "text": [
      "20000/20000 [==============================] - ETA: 1s - loss: 0.0158 - acc: 0.992 - ETA: 0s - loss: 0.0203 - acc: 0.992 - ETA: 0s - loss: 0.0237 - acc: 0.992 - ETA: 0s - loss: 0.0204 - acc: 0.993 - ETA: 0s - loss: 0.0197 - acc: 0.993 - ETA: 0s - loss: 0.0180 - acc: 0.994 - ETA: 0s - loss: 0.0181 - acc: 0.994 - ETA: 0s - loss: 0.0176 - acc: 0.994 - ETA: 0s - loss: 0.0182 - acc: 0.994 - ETA: 0s - loss: 0.0183 - acc: 0.994 - ETA: 0s - loss: 0.0191 - acc: 0.994 - ETA: 0s - loss: 0.0195 - acc: 0.994 - ETA: 0s - loss: 0.0197 - acc: 0.993 - ETA: 0s - loss: 0.0203 - acc: 0.993 - ETA: 0s - loss: 0.0200 - acc: 0.993 - ETA: 0s - loss: 0.0203 - acc: 0.993 - ETA: 0s - loss: 0.0200 - acc: 0.993 - ETA: 0s - loss: 0.0199 - acc: 0.993 - ETA: 0s - loss: 0.0196 - acc: 0.993 - 1s 52us/step - loss: 0.0195 - acc: 0.9937 - val_loss: 0.0187 - val_acc: 0.9944\n",
      "\n",
      "Epoch 00009: val_loss improved from 0.01880 to 0.01866, saving model to Xception_fine_tune_0.h5\n",
      "Epoch 10/20\n",
      "20000/20000 [==============================] - ETA: 1s - loss: 0.0403 - acc: 0.992 - ETA: 0s - loss: 0.0211 - acc: 0.993 - ETA: 0s - loss: 0.0236 - acc: 0.993 - ETA: 0s - loss: 0.0211 - acc: 0.994 - ETA: 0s - loss: 0.0204 - acc: 0.993 - ETA: 0s - loss: 0.0193 - acc: 0.994 - ETA: 0s - loss: 0.0181 - acc: 0.994 - ETA: 0s - loss: 0.0191 - acc: 0.994 - ETA: 0s - loss: 0.0184 - acc: 0.994 - ETA: 0s - loss: 0.0188 - acc: 0.994 - ETA: 0s - loss: 0.0189 - acc: 0.994 - ETA: 0s - loss: 0.0190 - acc: 0.993 - ETA: 0s - loss: 0.0184 - acc: 0.994 - ETA: 0s - loss: 0.0189 - acc: 0.994 - ETA: 0s - loss: 0.0187 - acc: 0.994 - ETA: 0s - loss: 0.0181 - acc: 0.994 - ETA: 0s - loss: 0.0187 - acc: 0.994 - ETA: 0s - loss: 0.0182 - acc: 0.994 - ETA: 0s - loss: 0.0183 - acc: 0.994 - 1s 51us/step - loss: 0.0183 - acc: 0.9943 - val_loss: 0.0186 - val_acc: 0.9942\n",
      "\n",
      "Epoch 00010: val_loss improved from 0.01866 to 0.01865, saving model to Xception_fine_tune_0.h5\n",
      "Epoch 11/20\n",
      "20000/20000 [==============================] - ETA: 1s - loss: 0.0267 - acc: 0.984 - ETA: 0s - loss: 0.0113 - acc: 0.995 - ETA: 0s - loss: 0.0111 - acc: 0.996 - ETA: 0s - loss: 0.0125 - acc: 0.995 - ETA: 0s - loss: 0.0153 - acc: 0.994 - ETA: 0s - loss: 0.0146 - acc: 0.995 - ETA: 0s - loss: 0.0156 - acc: 0.994 - ETA: 0s - loss: 0.0146 - acc: 0.995 - ETA: 0s - loss: 0.0156 - acc: 0.995 - ETA: 0s - loss: 0.0158 - acc: 0.995 - ETA: 0s - loss: 0.0160 - acc: 0.995 - ETA: 0s - loss: 0.0158 - acc: 0.995 - ETA: 0s - loss: 0.0160 - acc: 0.995 - ETA: 0s - loss: 0.0164 - acc: 0.995 - ETA: 0s - loss: 0.0170 - acc: 0.994 - ETA: 0s - loss: 0.0170 - acc: 0.994 - ETA: 0s - loss: 0.0168 - acc: 0.994 - ETA: 0s - loss: 0.0170 - acc: 0.994 - ETA: 0s - loss: 0.0171 - acc: 0.994 - ETA: 0s - loss: 0.0175 - acc: 0.994 - 1s 54us/step - loss: 0.0175 - acc: 0.9942 - val_loss: 0.0188 - val_acc: 0.9942\n",
      "\n",
      "Epoch 00011: val_loss did not improve\n",
      "Epoch 12/20\n",
      "20000/20000 [==============================] - ETA: 1s - loss: 0.0105 - acc: 1.000 - ETA: 0s - loss: 0.0193 - acc: 0.996 - ETA: 0s - loss: 0.0177 - acc: 0.995 - ETA: 0s - loss: 0.0174 - acc: 0.996 - ETA: 0s - loss: 0.0166 - acc: 0.996 - ETA: 0s - loss: 0.0183 - acc: 0.994 - ETA: 0s - loss: 0.0180 - acc: 0.994 - ETA: 0s - loss: 0.0177 - acc: 0.994 - ETA: 0s - loss: 0.0174 - acc: 0.995 - ETA: 0s - loss: 0.0168 - acc: 0.995 - ETA: 0s - loss: 0.0168 - acc: 0.994 - ETA: 0s - loss: 0.0176 - acc: 0.994 - ETA: 0s - loss: 0.0180 - acc: 0.994 - ETA: 0s - loss: 0.0178 - acc: 0.994 - ETA: 0s - loss: 0.0179 - acc: 0.994 - ETA: 0s - loss: 0.0181 - acc: 0.994 - ETA: 0s - loss: 0.0177 - acc: 0.994 - 1s 46us/step - loss: 0.0176 - acc: 0.9944 - val_loss: 0.0188 - val_acc: 0.9942\n",
      "\n",
      "Epoch 00012: val_loss did not improve\n",
      "Epoch 13/20\n",
      "20000/20000 [==============================] - ETA: 1s - loss: 0.0089 - acc: 1.000 - ETA: 0s - loss: 0.0097 - acc: 0.997 - ETA: 0s - loss: 0.0102 - acc: 0.997 - ETA: 0s - loss: 0.0129 - acc: 0.996 - ETA: 0s - loss: 0.0125 - acc: 0.996 - ETA: 0s - loss: 0.0135 - acc: 0.996 - ETA: 0s - loss: 0.0149 - acc: 0.996 - ETA: 0s - loss: 0.0149 - acc: 0.996 - ETA: 0s - loss: 0.0148 - acc: 0.995 - ETA: 0s - loss: 0.0164 - acc: 0.995 - ETA: 0s - loss: 0.0161 - acc: 0.995 - ETA: 0s - loss: 0.0153 - acc: 0.996 - ETA: 0s - loss: 0.0164 - acc: 0.995 - ETA: 0s - loss: 0.0169 - acc: 0.995 - ETA: 0s - loss: 0.0175 - acc: 0.995 - ETA: 0s - loss: 0.0171 - acc: 0.995 - ETA: 0s - loss: 0.0183 - acc: 0.994 - 1s 46us/step - loss: 0.0182 - acc: 0.9948 - val_loss: 0.0189 - val_acc: 0.9942\n",
      "\n",
      "Epoch 00013: val_loss did not improve\n",
      "Epoch 14/20\n",
      "20000/20000 [==============================] - ETA: 1s - loss: 0.0074 - acc: 1.000 - ETA: 0s - loss: 0.0265 - acc: 0.993 - ETA: 0s - loss: 0.0184 - acc: 0.994 - ETA: 0s - loss: 0.0189 - acc: 0.994 - ETA: 0s - loss: 0.0188 - acc: 0.994 - ETA: 0s - loss: 0.0203 - acc: 0.994 - ETA: 0s - loss: 0.0190 - acc: 0.994 - ETA: 0s - loss: 0.0180 - acc: 0.994 - ETA: 0s - loss: 0.0179 - acc: 0.994 - ETA: 0s - loss: 0.0174 - acc: 0.994 - ETA: 0s - loss: 0.0171 - acc: 0.995 - ETA: 0s - loss: 0.0166 - acc: 0.995 - ETA: 0s - loss: 0.0168 - acc: 0.995 - ETA: 0s - loss: 0.0173 - acc: 0.995 - ETA: 0s - loss: 0.0173 - acc: 0.994 - ETA: 0s - loss: 0.0173 - acc: 0.994 - ETA: 0s - loss: 0.0174 - acc: 0.994 - ETA: 0s - loss: 0.0176 - acc: 0.994 - ETA: 0s - loss: 0.0171 - acc: 0.994 - ETA: 0s - loss: 0.0174 - acc: 0.994 - 1s 54us/step - loss: 0.0173 - acc: 0.9949 - val_loss: 0.0188 - val_acc: 0.9944\n",
      "\n",
      "Epoch 00014: val_loss did not improve\n",
      "Epoch 15/20\n",
      "20000/20000 [==============================] - ETA: 1s - loss: 0.0149 - acc: 0.992 - ETA: 1s - loss: 0.0202 - acc: 0.992 - ETA: 1s - loss: 0.0202 - acc: 0.994 - ETA: 0s - loss: 0.0201 - acc: 0.994 - ETA: 0s - loss: 0.0173 - acc: 0.995 - ETA: 0s - loss: 0.0183 - acc: 0.994 - ETA: 0s - loss: 0.0178 - acc: 0.994 - ETA: 0s - loss: 0.0162 - acc: 0.995 - ETA: 0s - loss: 0.0157 - acc: 0.995 - ETA: 0s - loss: 0.0153 - acc: 0.995 - ETA: 0s - loss: 0.0154 - acc: 0.995 - ETA: 0s - loss: 0.0161 - acc: 0.994 - ETA: 0s - loss: 0.0158 - acc: 0.995 - ETA: 0s - loss: 0.0167 - acc: 0.995 - ETA: 0s - loss: 0.0166 - acc: 0.995 - ETA: 0s - loss: 0.0165 - acc: 0.995 - ETA: 0s - loss: 0.0169 - acc: 0.995 - ETA: 0s - loss: 0.0170 - acc: 0.995 - ETA: 0s - loss: 0.0172 - acc: 0.994 - ETA: 0s - loss: 0.0174 - acc: 0.994 - 1s 54us/step - loss: 0.0176 - acc: 0.9947 - val_loss: 0.0189 - val_acc: 0.9944\n",
      "\n",
      "Epoch 00015: val_loss did not improve\n",
      "Epoch 16/20\n",
      "20000/20000 [==============================] - ETA: 1s - loss: 0.0286 - acc: 0.984 - ETA: 1s - loss: 0.0173 - acc: 0.994 - ETA: 1s - loss: 0.0221 - acc: 0.993 - ETA: 0s - loss: 0.0213 - acc: 0.993 - ETA: 0s - loss: 0.0203 - acc: 0.993 - ETA: 0s - loss: 0.0190 - acc: 0.994 - ETA: 0s - loss: 0.0196 - acc: 0.993 - ETA: 0s - loss: 0.0189 - acc: 0.994 - ETA: 0s - loss: 0.0190 - acc: 0.994 - ETA: 0s - loss: 0.0187 - acc: 0.994 - ETA: 0s - loss: 0.0192 - acc: 0.994 - ETA: 0s - loss: 0.0180 - acc: 0.994 - ETA: 0s - loss: 0.0184 - acc: 0.994 - ETA: 0s - loss: 0.0182 - acc: 0.994 - ETA: 0s - loss: 0.0179 - acc: 0.994 - ETA: 0s - loss: 0.0175 - acc: 0.994 - ETA: 0s - loss: 0.0175 - acc: 0.994 - ETA: 0s - loss: 0.0170 - acc: 0.994 - ETA: 0s - loss: 0.0174 - acc: 0.994 - 1s 52us/step - loss: 0.0173 - acc: 0.9946 - val_loss: 0.0189 - val_acc: 0.9942\n",
      "\n",
      "Epoch 00016: val_loss did not improve\n",
      "Epoch 17/20\n",
      "20000/20000 [==============================] - ETA: 1s - loss: 0.0052 - acc: 1.000 - ETA: 0s - loss: 0.0090 - acc: 0.996 - ETA: 0s - loss: 0.0133 - acc: 0.994 - ETA: 0s - loss: 0.0119 - acc: 0.995 - ETA: 0s - loss: 0.0129 - acc: 0.995 - ETA: 0s - loss: 0.0146 - acc: 0.995 - ETA: 0s - loss: 0.0149 - acc: 0.995 - ETA: 0s - loss: 0.0157 - acc: 0.995 - ETA: 0s - loss: 0.0171 - acc: 0.994 - ETA: 0s - loss: 0.0167 - acc: 0.994 - ETA: 0s - loss: 0.0169 - acc: 0.994 - ETA: 0s - loss: 0.0167 - acc: 0.994 - ETA: 0s - loss: 0.0164 - acc: 0.994 - ETA: 0s - loss: 0.0167 - acc: 0.994 - ETA: 0s - loss: 0.0165 - acc: 0.994 - ETA: 0s - loss: 0.0161 - acc: 0.994 - ETA: 0s - loss: 0.0165 - acc: 0.994 - ETA: 0s - loss: 0.0168 - acc: 0.994 - ETA: 0s - loss: 0.0169 - acc: 0.994 - 1s 52us/step - loss: 0.0166 - acc: 0.9946 - val_loss: 0.0190 - val_acc: 0.9942\n",
      "\n",
      "Epoch 00017: val_loss did not improve\n",
      "Epoch 18/20\n"
     ]
    },
    {
     "name": "stdout",
     "output_type": "stream",
     "text": [
      "20000/20000 [==============================] - ETA: 1s - loss: 0.0026 - acc: 1.000 - ETA: 0s - loss: 0.0105 - acc: 0.995 - ETA: 0s - loss: 0.0135 - acc: 0.996 - ETA: 0s - loss: 0.0151 - acc: 0.995 - ETA: 0s - loss: 0.0161 - acc: 0.995 - ETA: 0s - loss: 0.0146 - acc: 0.995 - ETA: 0s - loss: 0.0151 - acc: 0.995 - ETA: 0s - loss: 0.0154 - acc: 0.995 - ETA: 0s - loss: 0.0155 - acc: 0.995 - ETA: 0s - loss: 0.0155 - acc: 0.995 - ETA: 0s - loss: 0.0157 - acc: 0.995 - ETA: 0s - loss: 0.0157 - acc: 0.995 - ETA: 0s - loss: 0.0164 - acc: 0.995 - ETA: 0s - loss: 0.0165 - acc: 0.995 - ETA: 0s - loss: 0.0165 - acc: 0.995 - ETA: 0s - loss: 0.0161 - acc: 0.995 - ETA: 0s - loss: 0.0160 - acc: 0.995 - 1s 47us/step - loss: 0.0166 - acc: 0.9950 - val_loss: 0.0193 - val_acc: 0.9942\n",
      "\n",
      "Epoch 00018: val_loss did not improve\n",
      "Epoch 19/20\n",
      "20000/20000 [==============================] - ETA: 1s - loss: 0.0062 - acc: 1.000 - ETA: 1s - loss: 0.0140 - acc: 0.994 - ETA: 1s - loss: 0.0119 - acc: 0.995 - ETA: 0s - loss: 0.0136 - acc: 0.996 - ETA: 0s - loss: 0.0123 - acc: 0.996 - ETA: 0s - loss: 0.0173 - acc: 0.995 - ETA: 0s - loss: 0.0176 - acc: 0.995 - ETA: 0s - loss: 0.0166 - acc: 0.995 - ETA: 0s - loss: 0.0153 - acc: 0.995 - ETA: 0s - loss: 0.0144 - acc: 0.996 - ETA: 0s - loss: 0.0151 - acc: 0.996 - ETA: 0s - loss: 0.0157 - acc: 0.995 - ETA: 0s - loss: 0.0160 - acc: 0.995 - ETA: 0s - loss: 0.0159 - acc: 0.995 - ETA: 0s - loss: 0.0162 - acc: 0.995 - ETA: 0s - loss: 0.0161 - acc: 0.995 - ETA: 0s - loss: 0.0156 - acc: 0.995 - ETA: 0s - loss: 0.0159 - acc: 0.995 - 1s 50us/step - loss: 0.0162 - acc: 0.9954 - val_loss: 0.0192 - val_acc: 0.9942\n",
      "\n",
      "Epoch 00019: val_loss did not improve\n",
      "Epoch 20/20\n",
      "20000/20000 [==============================] - ETA: 1s - loss: 0.0100 - acc: 1.000 - ETA: 1s - loss: 0.0275 - acc: 0.994 - ETA: 0s - loss: 0.0174 - acc: 0.995 - ETA: 0s - loss: 0.0165 - acc: 0.995 - ETA: 0s - loss: 0.0174 - acc: 0.995 - ETA: 0s - loss: 0.0162 - acc: 0.995 - ETA: 0s - loss: 0.0152 - acc: 0.995 - ETA: 0s - loss: 0.0155 - acc: 0.996 - ETA: 0s - loss: 0.0163 - acc: 0.995 - ETA: 0s - loss: 0.0155 - acc: 0.995 - ETA: 0s - loss: 0.0152 - acc: 0.995 - ETA: 0s - loss: 0.0156 - acc: 0.995 - ETA: 0s - loss: 0.0165 - acc: 0.995 - ETA: 0s - loss: 0.0156 - acc: 0.995 - ETA: 0s - loss: 0.0152 - acc: 0.995 - ETA: 0s - loss: 0.0155 - acc: 0.995 - ETA: 0s - loss: 0.0153 - acc: 0.995 - ETA: 0s - loss: 0.0161 - acc: 0.995 - ETA: 0s - loss: 0.0159 - acc: 0.995 - 1s 52us/step - loss: 0.0158 - acc: 0.9955 - val_loss: 0.0194 - val_acc: 0.9942\n",
      "\n",
      "Epoch 00020: val_loss did not improve\n"
     ]
    },
    {
     "data": {
      "text/plain": [
       "<keras.callbacks.History at 0x21c1951cb38>"
      ]
     },
     "execution_count": 5,
     "metadata": {},
     "output_type": "execute_result"
    }
   ],
   "source": [
    "checkpoint = ModelCheckpoint('Xception_fine_tune_0.h5', monitor='val_loss', verbose=1, save_best_only=True, mode='min',save_weights_only=True)\n",
    "callbacks_list = [checkpoint]\n",
    "model.fit(X_train, Y_train, batch_size=128, epochs=20, validation_split=0.2, shuffle=True,\n",
    "         callbacks=callbacks_list)"
   ]
  }
 ],
 "metadata": {
  "kernelspec": {
   "display_name": "Python 3",
   "language": "python",
   "name": "python3"
  },
  "language_info": {
   "codemirror_mode": {
    "name": "ipython",
    "version": 3
   },
   "file_extension": ".py",
   "mimetype": "text/x-python",
   "name": "python",
   "nbconvert_exporter": "python",
   "pygments_lexer": "ipython3",
   "version": "3.6.6"
  }
 },
 "nbformat": 4,
 "nbformat_minor": 2
}
