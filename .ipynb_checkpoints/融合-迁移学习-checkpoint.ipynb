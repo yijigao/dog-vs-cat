{
 "cells": [
  {
   "cell_type": "code",
   "execution_count": 1,
   "metadata": {},
   "outputs": [
    {
     "name": "stderr",
     "output_type": "stream",
     "text": [
      "/home/ubuntu/anaconda3/envs/tensorflow_p36/lib/python3.6/site-packages/h5py/__init__.py:36: FutureWarning: Conversion of the second argument of issubdtype from `float` to `np.floating` is deprecated. In future, it will be treated as `np.float64 == np.dtype(float).type`.\n",
      "  from ._conv import register_converters as _register_converters\n",
      "Using TensorFlow backend.\n"
     ]
    }
   ],
   "source": [
    "#  导入必要包\n",
    "%matplotlib inline\n",
    "#import utilities\n",
    "import os\n",
    "import shutil\n",
    "import numpy as np\n",
    "import random\n",
    "from tqdm import tqdm  \n",
    "from time import time\n",
    "from PIL import Image\n",
    "import h5py\n",
    "import pandas as pd\n",
    "\n",
    "from keras.models import *\n",
    "from keras.layers import *\n",
    "from keras.applications import *\n",
    "from keras.preprocessing.image import *\n",
    "from keras.callbacks import *\n",
    "from keras.optimizers import *\n",
    "from keras.utils import *\n",
    "from keras import backend as K"
   ]
  },
  {
   "cell_type": "code",
   "execution_count": 2,
   "metadata": {},
   "outputs": [],
   "source": [
    "# 建立符号链接\n",
    "def data_symbol_link():\n",
    "    work_dir  = os.getcwd()\n",
    "    train_dir = work_dir + \"/train/\"\n",
    "    test_dir  = work_dir + \"/test/\"\n",
    "    data_dir  = work_dir + \"/data/\"\n",
    "    \n",
    "    if(os.path.exists(data_dir)):\n",
    "        shutil.rmtree(data_dir)\n",
    "        \n",
    "    split_train_dir = work_dir+\"/data/train\"\n",
    "    split_test_dir  = work_dir+\"/data/test\"\n",
    "    os.mkdir(data_dir)\n",
    "    \n",
    "    os.mkdir(split_train_dir)\n",
    "    os.mkdir(split_train_dir+\"/dog\")\n",
    "    os.mkdir(split_train_dir+\"/cat\")\n",
    "    os.mkdir(split_test_dir)\n",
    "    os.mkdir(split_test_dir+\"/test\")\n",
    "        \n",
    "    train_files = os.listdir(train_dir)    \n",
    "    num_train_files = len(train_files)\n",
    "    for i in tqdm(range(num_train_files)):\n",
    "        file = train_files[i]\n",
    "        if \"dog\" in file.split('.'):\n",
    "            os.symlink(train_dir+file, split_train_dir+\"/dog/\"+file)\n",
    "        else:\n",
    "            os.symlink(train_dir+file, split_train_dir+\"/cat/\"+file)\n",
    "    \n",
    "    test_files = os.listdir(test_dir)    \n",
    "    num_test_files = len(test_files)\n",
    "    for i in tqdm(range(num_test_files)):\n",
    "        file = test_files[i]\n",
    "        os.symlink(test_dir+file, split_test_dir+\"/test/\"+file)\n",
    "        \n",
    "    return split_train_dir, split_test_dir    "
   ]
  },
  {
   "cell_type": "code",
   "execution_count": 3,
   "metadata": {},
   "outputs": [
    {
     "name": "stderr",
     "output_type": "stream",
     "text": [
      "100%|██████████| 25000/25000 [00:00<00:00, 84883.43it/s]\n",
      "100%|██████████| 12500/12500 [00:00<00:00, 92137.63it/s]\n"
     ]
    }
   ],
   "source": [
    "train_data, test_data = data_symbol_link()"
   ]
  },
  {
   "cell_type": "code",
   "execution_count": 4,
   "metadata": {},
   "outputs": [],
   "source": [
    "# 融合模型\n",
    "def write_feature_data(MODEL, image_shape, train_data, test_data, batch_size, preprocess_input = None):\n",
    "    input_tensor = Input((image_shape[0], image_shape[1], 3))\n",
    "    x = input_tensor\n",
    "    if preprocess_input:\n",
    "        x = Lambda(preprocess_input)(x)\n",
    "    \n",
    "    base_model = MODEL(input_tensor=x, weights='imagenet', include_top=False)\n",
    "    base_model.save_weights(f'{base_model.name}-imagenet.h5')\n",
    "    \n",
    "    model = Model(base_model.input, GlobalAveragePooling2D()(base_model.output))\n",
    "\n",
    "    gen = ImageDataGenerator()\n",
    "    train_generator = gen.flow_from_directory(train_data, image_shape, shuffle=False, \n",
    "                                              batch_size=batch_size)\n",
    "    test_generator = gen.flow_from_directory(test_data, image_shape, shuffle=False, \n",
    "                                             batch_size=batch_size, class_mode=None)\n",
    "    train_feature = model.predict_generator(train_generator, train_generator.samples, verbose=1)\n",
    "    test_feature = model.predict_generator(test_generator, test_generator.samples, verbose=1)\n",
    "    with h5py.File(f\"feature_{base_model.name}.h5\") as h:\n",
    "        h.create_dataset(\"train\", data=train_feature)\n",
    "        h.create_dataset(\"test\", data=test_feature)\n",
    "        h.create_dataset(\"label\", data=train_generator.classes)"
   ]
  },
  {
   "cell_type": "code",
   "execution_count": 5,
   "metadata": {},
   "outputs": [
    {
     "name": "stdout",
     "output_type": "stream",
     "text": [
      "Found 25000 images belonging to 2 classes.\n",
      "Found 12500 images belonging to 1 classes.\n",
      "25000/25000 [==============================] - 235s 9ms/step\n",
      "12500/12500 [==============================] - 117s 9ms/step\n"
     ]
    }
   ],
   "source": [
    "# Xception\n",
    "write_feature_data(Xception, (299, 299), train_data, test_data, batch_size=1, preprocess_input=xception.preprocess_input)"
   ]
  },
  {
   "cell_type": "code",
   "execution_count": 6,
   "metadata": {},
   "outputs": [
    {
     "name": "stdout",
     "output_type": "stream",
     "text": [
      "Found 25000 images belonging to 2 classes.\n",
      "Found 12500 images belonging to 1 classes.\n",
      "25000/25000 [==============================] - 687s 27ms/step\n",
      "12500/12500 [==============================] - 339s 27ms/step\n"
     ]
    }
   ],
   "source": [
    "# Densenet\n",
    "write_feature_data(DenseNet201, (224, 224), train_data, test_data, batch_size=1, preprocess_input=densenet.preprocess_input)"
   ]
  },
  {
   "cell_type": "code",
   "execution_count": 7,
   "metadata": {},
   "outputs": [
    {
     "name": "stdout",
     "output_type": "stream",
     "text": [
      "Found 25000 images belonging to 2 classes.\n",
      "Found 12500 images belonging to 1 classes.\n",
      "25000/25000 [==============================] - 374s 15ms/step\n",
      "12500/12500 [==============================] - 185s 15ms/step\n"
     ]
    }
   ],
   "source": [
    "# InceptionV3\n",
    "write_feature_data(InceptionV3, (299, 299), train_data, test_data, batch_size=1, preprocess_input=inception_v3.preprocess_input)"
   ]
  },
  {
   "cell_type": "code",
   "execution_count": 16,
   "metadata": {},
   "outputs": [
    {
     "data": {
      "text/plain": [
       "(125000, 62500, 25000)"
      ]
     },
     "execution_count": 16,
     "metadata": {},
     "output_type": "execute_result"
    }
   ],
   "source": [
    "len(X_train), len(X_test), len(Y_train)"
   ]
  },
  {
   "cell_type": "code",
   "execution_count": 4,
   "metadata": {
    "scrolled": true
   },
   "outputs": [],
   "source": [
    "# 构建网络\n",
    "from sklearn.utils import shuffle\n",
    "np.random.seed(42)\n",
    "\n",
    "X_train = []\n",
    "X_test = []\n",
    "\n",
    "for filename in [\"feature_xception.h5\", \"feature_densenet201.h5\", \"feature_inception_v3.h5\"]:\n",
    "    with h5py.File(filename, 'r') as h:\n",
    "        X_train.append(np.array(h['train']))\n",
    "        X_test.append(np.array(h['test']))\n",
    "        Y_train = np.array(h['label'])\n",
    "\n",
    "X_train = np.concatenate(X_train, axis=1)\n",
    "X_test = np.concatenate(X_test, axis=1)\n",
    "\n",
    "X_train, Y_train = shuffle(X_train, Y_train)"
   ]
  },
  {
   "cell_type": "code",
   "execution_count": 5,
   "metadata": {},
   "outputs": [],
   "source": [
    "# 建立顶层网络结构\n",
    "input_tensor = Input(X_train.shape[1:])\n",
    "x = Dropout(0.5)(input_tensor)\n",
    "x = Dense(1, activation='sigmoid')(x)\n",
    "model = Model(input_tensor, x)\n",
    "\n",
    "model.compile(optimizer='adadelta',\n",
    "              loss='binary_crossentropy',\n",
    "              metrics=['accuracy'])"
   ]
  },
  {
   "cell_type": "code",
   "execution_count": 6,
   "metadata": {},
   "outputs": [],
   "source": [
    "plot_model(model,show_shapes=True)"
   ]
  },
  {
   "cell_type": "code",
   "execution_count": 7,
   "metadata": {},
   "outputs": [
    {
     "name": "stdout",
     "output_type": "stream",
     "text": [
      "Train on 20000 samples, validate on 5000 samples\n",
      "Epoch 1/20\n",
      "20000/20000 [==============================] - 2s 86us/step - loss: 0.0604 - acc: 0.9849 - val_loss: 0.0169 - val_acc: 0.9948\n",
      "\n",
      "Epoch 00001: val_loss improved from inf to 0.01692, saving model to merged_weight.h5\n",
      "Epoch 2/20\n",
      "20000/20000 [==============================] - 1s 33us/step - loss: 0.0189 - acc: 0.9946 - val_loss: 0.0138 - val_acc: 0.9966\n",
      "\n",
      "Epoch 00002: val_loss improved from 0.01692 to 0.01376, saving model to merged_weight.h5\n",
      "Epoch 3/20\n",
      "20000/20000 [==============================] - 1s 33us/step - loss: 0.0153 - acc: 0.9953 - val_loss: 0.0153 - val_acc: 0.9944\n",
      "\n",
      "Epoch 00003: val_loss did not improve from 0.01376\n",
      "Epoch 4/20\n",
      "20000/20000 [==============================] - 1s 33us/step - loss: 0.0134 - acc: 0.9959 - val_loss: 0.0141 - val_acc: 0.9958\n",
      "\n",
      "Epoch 00004: val_loss did not improve from 0.01376\n",
      "Epoch 5/20\n",
      "20000/20000 [==============================] - 1s 32us/step - loss: 0.0127 - acc: 0.9958 - val_loss: 0.0146 - val_acc: 0.9954\n",
      "\n",
      "Epoch 00005: val_loss did not improve from 0.01376\n",
      "Epoch 6/20\n",
      "20000/20000 [==============================] - 1s 32us/step - loss: 0.0115 - acc: 0.9957 - val_loss: 0.0144 - val_acc: 0.9958\n",
      "\n",
      "Epoch 00006: val_loss did not improve from 0.01376\n",
      "Epoch 7/20\n",
      "20000/20000 [==============================] - 1s 33us/step - loss: 0.0118 - acc: 0.9960 - val_loss: 0.0139 - val_acc: 0.9962\n",
      "\n",
      "Epoch 00007: val_loss did not improve from 0.01376\n",
      "Epoch 8/20\n",
      "20000/20000 [==============================] - 1s 33us/step - loss: 0.0097 - acc: 0.9969 - val_loss: 0.0152 - val_acc: 0.9954\n",
      "\n",
      "Epoch 00008: val_loss did not improve from 0.01376\n",
      "Epoch 9/20\n",
      "20000/20000 [==============================] - 1s 32us/step - loss: 0.0093 - acc: 0.9972 - val_loss: 0.0148 - val_acc: 0.9958\n",
      "\n",
      "Epoch 00009: val_loss did not improve from 0.01376\n",
      "Epoch 10/20\n",
      "20000/20000 [==============================] - 1s 32us/step - loss: 0.0092 - acc: 0.9969 - val_loss: 0.0159 - val_acc: 0.9950\n",
      "\n",
      "Epoch 00010: val_loss did not improve from 0.01376\n",
      "Epoch 11/20\n",
      "20000/20000 [==============================] - 1s 32us/step - loss: 0.0086 - acc: 0.9972 - val_loss: 0.0151 - val_acc: 0.9950\n",
      "\n",
      "Epoch 00011: val_loss did not improve from 0.01376\n",
      "Epoch 12/20\n",
      "20000/20000 [==============================] - 1s 32us/step - loss: 0.0078 - acc: 0.9974 - val_loss: 0.0152 - val_acc: 0.9952\n",
      "\n",
      "Epoch 00012: val_loss did not improve from 0.01376\n",
      "Epoch 13/20\n",
      "20000/20000 [==============================] - 1s 32us/step - loss: 0.0075 - acc: 0.9978 - val_loss: 0.0155 - val_acc: 0.9960\n",
      "\n",
      "Epoch 00013: val_loss did not improve from 0.01376\n",
      "Epoch 14/20\n",
      "20000/20000 [==============================] - 1s 33us/step - loss: 0.0078 - acc: 0.9973 - val_loss: 0.0159 - val_acc: 0.9958\n",
      "\n",
      "Epoch 00014: val_loss did not improve from 0.01376\n",
      "Epoch 15/20\n",
      "20000/20000 [==============================] - 1s 32us/step - loss: 0.0068 - acc: 0.9979 - val_loss: 0.0150 - val_acc: 0.9958\n",
      "\n",
      "Epoch 00015: val_loss did not improve from 0.01376\n",
      "Epoch 16/20\n",
      "20000/20000 [==============================] - 1s 32us/step - loss: 0.0076 - acc: 0.9974 - val_loss: 0.0151 - val_acc: 0.9952\n",
      "\n",
      "Epoch 00016: val_loss did not improve from 0.01376\n",
      "Epoch 17/20\n",
      "20000/20000 [==============================] - 1s 32us/step - loss: 0.0071 - acc: 0.9976 - val_loss: 0.0155 - val_acc: 0.9956\n",
      "\n",
      "Epoch 00017: val_loss did not improve from 0.01376\n",
      "Epoch 18/20\n",
      "20000/20000 [==============================] - 1s 33us/step - loss: 0.0065 - acc: 0.9978 - val_loss: 0.0175 - val_acc: 0.9948\n",
      "\n",
      "Epoch 00018: val_loss did not improve from 0.01376\n",
      "Epoch 19/20\n",
      "20000/20000 [==============================] - 1s 32us/step - loss: 0.0069 - acc: 0.9979 - val_loss: 0.0155 - val_acc: 0.9956\n",
      "\n",
      "Epoch 00019: val_loss did not improve from 0.01376\n",
      "Epoch 20/20\n",
      "20000/20000 [==============================] - 1s 32us/step - loss: 0.0065 - acc: 0.9981 - val_loss: 0.0156 - val_acc: 0.9956\n",
      "\n",
      "Epoch 00020: val_loss did not improve from 0.01376\n"
     ]
    }
   ],
   "source": [
    "#训练模型并保存顶层网络参数\n",
    "filepath=\"merged_weight.h5\"\n",
    "checkpoint = ModelCheckpoint(filepath, monitor='val_loss', verbose=1, save_best_only=True, mode='min',save_weights_only=True)\n",
    "callbacks_list = [checkpoint]\n",
    "model.fit(X_train, Y_train, batch_size=128, epochs=20, validation_split=0.2, shuffle=True,\n",
    "         callbacks=callbacks_list)\n",
    "model.save_weights(\"merged_weights.h5\")"
   ]
  },
  {
   "cell_type": "code",
   "execution_count": 8,
   "metadata": {},
   "outputs": [
    {
     "name": "stdout",
     "output_type": "stream",
     "text": [
      "12500/12500 [==============================] - 0s 31us/step\n"
     ]
    }
   ],
   "source": [
    "# 在测试集预测\n",
    "model.load_weights('merged_weights.h5')\n",
    "y_test = model.predict(X_test, verbose=1)\n",
    "y_test = y_test.clip(min=0.005, max=0.995)"
   ]
  },
  {
   "cell_type": "code",
   "execution_count": 9,
   "metadata": {},
   "outputs": [
    {
     "name": "stdout",
     "output_type": "stream",
     "text": [
      "Found 12500 images belonging to 1 classes.\n"
     ]
    },
    {
     "name": "stderr",
     "output_type": "stream",
     "text": [
      "/home/ubuntu/anaconda3/envs/tensorflow_p36/lib/python3.6/site-packages/ipykernel_launcher.py:9: FutureWarning: set_value is deprecated and will be removed in a future release. Please use .at[] or .iat[] accessors instead\n",
      "  if __name__ == '__main__':\n"
     ]
    },
    {
     "data": {
      "text/html": [
       "<div>\n",
       "<style scoped>\n",
       "    .dataframe tbody tr th:only-of-type {\n",
       "        vertical-align: middle;\n",
       "    }\n",
       "\n",
       "    .dataframe tbody tr th {\n",
       "        vertical-align: top;\n",
       "    }\n",
       "\n",
       "    .dataframe thead th {\n",
       "        text-align: right;\n",
       "    }\n",
       "</style>\n",
       "<table border=\"1\" class=\"dataframe\">\n",
       "  <thead>\n",
       "    <tr style=\"text-align: right;\">\n",
       "      <th></th>\n",
       "      <th>id</th>\n",
       "      <th>label</th>\n",
       "    </tr>\n",
       "  </thead>\n",
       "  <tbody>\n",
       "    <tr>\n",
       "      <th>0</th>\n",
       "      <td>1</td>\n",
       "      <td>0.995</td>\n",
       "    </tr>\n",
       "    <tr>\n",
       "      <th>1</th>\n",
       "      <td>2</td>\n",
       "      <td>0.995</td>\n",
       "    </tr>\n",
       "    <tr>\n",
       "      <th>2</th>\n",
       "      <td>3</td>\n",
       "      <td>0.995</td>\n",
       "    </tr>\n",
       "    <tr>\n",
       "      <th>3</th>\n",
       "      <td>4</td>\n",
       "      <td>0.995</td>\n",
       "    </tr>\n",
       "    <tr>\n",
       "      <th>4</th>\n",
       "      <td>5</td>\n",
       "      <td>0.005</td>\n",
       "    </tr>\n",
       "    <tr>\n",
       "      <th>5</th>\n",
       "      <td>6</td>\n",
       "      <td>0.005</td>\n",
       "    </tr>\n",
       "    <tr>\n",
       "      <th>6</th>\n",
       "      <td>7</td>\n",
       "      <td>0.005</td>\n",
       "    </tr>\n",
       "    <tr>\n",
       "      <th>7</th>\n",
       "      <td>8</td>\n",
       "      <td>0.005</td>\n",
       "    </tr>\n",
       "    <tr>\n",
       "      <th>8</th>\n",
       "      <td>9</td>\n",
       "      <td>0.005</td>\n",
       "    </tr>\n",
       "    <tr>\n",
       "      <th>9</th>\n",
       "      <td>10</td>\n",
       "      <td>0.005</td>\n",
       "    </tr>\n",
       "  </tbody>\n",
       "</table>\n",
       "</div>"
      ],
      "text/plain": [
       "   id  label\n",
       "0   1  0.995\n",
       "1   2  0.995\n",
       "2   3  0.995\n",
       "3   4  0.995\n",
       "4   5  0.005\n",
       "5   6  0.005\n",
       "6   7  0.005\n",
       "7   8  0.005\n",
       "8   9  0.005\n",
       "9  10  0.005"
      ]
     },
     "execution_count": 9,
     "metadata": {},
     "output_type": "execute_result"
    }
   ],
   "source": [
    "df = pd.read_csv(\"sample_submission.csv\")\n",
    "\n",
    "gen = ImageDataGenerator()\n",
    "test_generator = gen.flow_from_directory(test_data, (224, 224), shuffle=False, \n",
    "                                         batch_size=16, class_mode=None)\n",
    "\n",
    "for i, fname in enumerate(test_generator.filenames):\n",
    "    index = int(fname[fname.rfind('/')+1:fname.rfind('.')])\n",
    "    df.set_value(index-1, 'label', y_test[i])\n",
    "\n",
    "df.to_csv('submission_merged.csv', index=None)\n",
    "df.head(10)"
   ]
  }
 ],
 "metadata": {
  "kernelspec": {
   "display_name": "Python 3",
   "language": "python",
   "name": "python3"
  },
  "language_info": {
   "codemirror_mode": {
    "name": "ipython",
    "version": 3
   },
   "file_extension": ".py",
   "mimetype": "text/x-python",
   "name": "python",
   "nbconvert_exporter": "python",
   "pygments_lexer": "ipython3",
   "version": "3.6.3"
  }
 },
 "nbformat": 4,
 "nbformat_minor": 2
}
